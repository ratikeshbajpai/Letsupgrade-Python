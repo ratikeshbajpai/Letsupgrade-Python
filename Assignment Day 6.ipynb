{
 "cells": [
  {
   "cell_type": "markdown",
   "metadata": {},
   "source": [
    "Question 1 \n",
    "For this challenge,create a bank account class that has two attributes\n",
    "\n",
    "*ownerName\n",
    "\n",
    "*Balance\n",
    "\n",
    "And two methods\n",
    "\n",
    "*deposit\n",
    "\n",
    "*withdraw \n",
    "As an added requirement,withdrawals may not exceed the available balance.\n",
    "\n",
    "Instantiate your class,make several deposits and withdrawals,and test to make sure the account\n",
    "cant be overdrawn.\n",
    " "
   ]
  },
  {
   "cell_type": "code",
   "execution_count": 25,
   "metadata": {},
   "outputs": [],
   "source": [
    "class bankAC():\n",
    "    def __init__(self,ownerName,Balance):\n",
    "        self.ownerName = ownerName\n",
    "        self.Balance = Balance\n",
    "        \n",
    "    def deposit(self,amt):\n",
    "        self.Balance = self.Balance+ amt\n",
    "        print(\"Transaction Successful\")\n",
    "        \n",
    "    def withdraw(self,amt):\n",
    "        if(amt>self.Balance):\n",
    "            print(\"Transaction Denied : Insufficient Amount\")\n",
    "        else:\n",
    "            self.Balance = self.Balance - amt\n",
    "            print(\"Transaction Successful\")\n",
    "    \n",
    "    def getDetails(self):\n",
    "        print(\"Name : \",self.ownerName)\n",
    "        print(\"Balance : \",self.Balance)\n",
    "\n",
    "        \n",
    "AC1 = bankAC(\"Ratikesh\",4500)"
   ]
  },
  {
   "cell_type": "code",
   "execution_count": 26,
   "metadata": {},
   "outputs": [
    {
     "name": "stdout",
     "output_type": "stream",
     "text": [
      "Name :  Ratikesh\n",
      "Balance :  4500\n"
     ]
    }
   ],
   "source": [
    "AC1.getDetails()"
   ]
  },
  {
   "cell_type": "code",
   "execution_count": 27,
   "metadata": {},
   "outputs": [
    {
     "name": "stdout",
     "output_type": "stream",
     "text": [
      "Transaction Successful\n"
     ]
    }
   ],
   "source": [
    "AC1.deposit(5500)"
   ]
  },
  {
   "cell_type": "code",
   "execution_count": 28,
   "metadata": {},
   "outputs": [
    {
     "name": "stdout",
     "output_type": "stream",
     "text": [
      "Name :  Ratikesh\n",
      "Balance :  10000\n"
     ]
    }
   ],
   "source": [
    "AC1.getDetails()"
   ]
  },
  {
   "cell_type": "code",
   "execution_count": 29,
   "metadata": {},
   "outputs": [
    {
     "name": "stdout",
     "output_type": "stream",
     "text": [
      "Transaction Successful\n"
     ]
    }
   ],
   "source": [
    "AC1.withdraw(6000)"
   ]
  },
  {
   "cell_type": "code",
   "execution_count": 30,
   "metadata": {},
   "outputs": [
    {
     "name": "stdout",
     "output_type": "stream",
     "text": [
      "Name :  Ratikesh\n",
      "Balance :  4000\n"
     ]
    }
   ],
   "source": [
    "AC1.getDetails()"
   ]
  },
  {
   "cell_type": "code",
   "execution_count": 31,
   "metadata": {},
   "outputs": [
    {
     "name": "stdout",
     "output_type": "stream",
     "text": [
      "Transaction Denied : Insufficient Amount\n"
     ]
    }
   ],
   "source": [
    "AC1.withdraw(6000)"
   ]
  },
  {
   "cell_type": "code",
   "execution_count": 32,
   "metadata": {},
   "outputs": [
    {
     "name": "stdout",
     "output_type": "stream",
     "text": [
      "Name :  Ratikesh\n",
      "Balance :  4000\n"
     ]
    }
   ],
   "source": [
    "AC1.getDetails()"
   ]
  },
  {
   "cell_type": "markdown",
   "metadata": {},
   "source": [
    "Question 2\n",
    "For this challenge,create a cone class that has two attributes:\n",
    "\n",
    "*R=Radius\n",
    "\n",
    "*h=Height\n",
    "\n",
    "And two methods:\n",
    "\n",
    "*Volume = \n",
    "Π * r = (\n",
    "2 h/3)\n",
    " \n",
    "\n",
    "*Surface area : base : \n",
    "Π * r\n",
    "2 , side Π\n",
    " \n",
    ":  * r * √\n",
    "(r2 2)+ h  \n",
    "\n"
   ]
  },
  {
   "cell_type": "code",
   "execution_count": 50,
   "metadata": {},
   "outputs": [],
   "source": [
    "import math\n",
    "class Cone():\n",
    "    def __init__(self,r,h):\n",
    "        self.r = r\n",
    "        self.h = h\n",
    "    \n",
    "    def Volume(self):\n",
    "        r = self.r\n",
    "        h = self.h\n",
    "        v = math.pi * r**2 * h/3\n",
    "        print(\"Volume : \",v)\n",
    "        \n",
    "    def SurfaceArea(self):\n",
    "        r = self.r\n",
    "        h = self.h\n",
    "        A = math.pi * r * ( r + math.sqrt((r*r + h*h)))\n",
    "        print(\"Suface Area = \",A)\n",
    "\n"
   ]
  },
  {
   "cell_type": "code",
   "execution_count": 51,
   "metadata": {},
   "outputs": [],
   "source": [
    "C1 = Cone(4,6)"
   ]
  },
  {
   "cell_type": "code",
   "execution_count": 52,
   "metadata": {},
   "outputs": [
    {
     "name": "stdout",
     "output_type": "stream",
     "text": [
      "Volume :  100.53096491487338\n"
     ]
    }
   ],
   "source": [
    "C1.Volume()"
   ]
  },
  {
   "cell_type": "code",
   "execution_count": 53,
   "metadata": {},
   "outputs": [
    {
     "name": "stdout",
     "output_type": "stream",
     "text": [
      "Suface Area =  140.8828696505485\n"
     ]
    }
   ],
   "source": [
    "C1.SurfaceArea()"
   ]
  },
  {
   "cell_type": "code",
   "execution_count": null,
   "metadata": {},
   "outputs": [],
   "source": []
  }
 ],
 "metadata": {
  "kernelspec": {
   "display_name": "Python 3",
   "language": "python",
   "name": "python3"
  },
  "language_info": {
   "codemirror_mode": {
    "name": "ipython",
    "version": 3
   },
   "file_extension": ".py",
   "mimetype": "text/x-python",
   "name": "python",
   "nbconvert_exporter": "python",
   "pygments_lexer": "ipython3",
   "version": "3.8.3"
  }
 },
 "nbformat": 4,
 "nbformat_minor": 4
}
