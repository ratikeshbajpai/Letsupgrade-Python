{
  "nbformat": 4,
  "nbformat_minor": 0,
  "metadata": {
    "colab": {
      "name": "Assignment Day 4.ipynb",
      "provenance": [],
      "collapsed_sections": [],
      "authorship_tag": "ABX9TyONX6T37Y6SBfq3+Ykk8Srj",
      "include_colab_link": true
    },
    "kernelspec": {
      "name": "python3",
      "display_name": "Python 3"
    }
  },
  "cells": [
    {
      "cell_type": "markdown",
      "metadata": {
        "id": "view-in-github",
        "colab_type": "text"
      },
      "source": [
        "<a href=\"https://colab.research.google.com/github/ratikeshbajpai/Letsupgrade-Python/blob/master/Assignment_Day_4.ipynb\" target=\"_parent\"><img src=\"https://colab.research.google.com/assets/colab-badge.svg\" alt=\"Open In Colab\"/></a>"
      ]
    },
    {
      "cell_type": "code",
      "metadata": {
        "id": "hGSqgkBg-iik",
        "colab_type": "code",
        "colab": {}
      },
      "source": [
        "for num in range(1042000,702648265) : \n",
        "  Sum = 0\n",
        "  temp = num\n",
        "  while num > 0 :\n",
        "    r = int(num%10)\n",
        "    Sum = Sum + (r*r*r)\n",
        "    num = num/10\n",
        "  if temp == Sum :\n",
        "    print(\"The First Armstrong Number is \",temp)\n",
        "    break\n",
        "  else : \n",
        "    print(temp,\" is not Armstrong Number\")\n"
      ],
      "execution_count": 4,
      "outputs": []
    },
    {
      "cell_type": "code",
      "metadata": {
        "id": "NFgwi1Jr-qXP",
        "colab_type": "code",
        "colab": {}
      },
      "source": [
        ""
      ],
      "execution_count": null,
      "outputs": []
    }
  ]
}