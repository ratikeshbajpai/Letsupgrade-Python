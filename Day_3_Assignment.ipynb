{
  "nbformat": 4,
  "nbformat_minor": 0,
  "metadata": {
    "colab": {
      "name": "Day 3 Assignment.ipynb",
      "provenance": [],
      "collapsed_sections": [],
      "authorship_tag": "ABX9TyOwHUzaCWVtj7UFZvgiQgEi",
      "include_colab_link": true
    },
    "kernelspec": {
      "name": "python3",
      "display_name": "Python 3"
    }
  },
  "cells": [
    {
      "cell_type": "markdown",
      "metadata": {
        "id": "view-in-github",
        "colab_type": "text"
      },
      "source": [
        "<a href=\"https://colab.research.google.com/github/ratikeshbajpai/Letsupgrade-Python/blob/master/Day_3_Assignment.ipynb\" target=\"_parent\"><img src=\"https://colab.research.google.com/assets/colab-badge.svg\" alt=\"Open In Colab\"/></a>"
      ]
    },
    {
      "cell_type": "markdown",
      "metadata": {
        "id": "9QWSNH9b97nv",
        "colab_type": "text"
      },
      "source": [
        "# **Assignment 1 Day 3**"
      ]
    },
    {
      "cell_type": "code",
      "metadata": {
        "id": "tn21-uhC0spn",
        "colab_type": "code",
        "colab": {}
      },
      "source": [
        "n = int(input(\"Enter the altitude\"))\n",
        "if n<=1000 :\n",
        "    print(\"Safe to land\")\n",
        "elif n<=5000 and n>1000 :\n",
        "    print(\"Bring Down to 1000\")\n",
        "else :\n",
        "    print(\"Turn Around\")"
      ],
      "execution_count": null,
      "outputs": []
    },
    {
      "cell_type": "code",
      "metadata": {
        "id": "y09W4BYU16wA",
        "colab_type": "code",
        "colab": {}
      },
      "source": [
        ""
      ],
      "execution_count": null,
      "outputs": []
    }
  ]
}