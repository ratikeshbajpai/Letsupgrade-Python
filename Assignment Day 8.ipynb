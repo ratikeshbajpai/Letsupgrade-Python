{
 "cells": [
  {
   "cell_type": "markdown",
   "metadata": {},
   "source": [
    "Question 1 \n",
    "\n",
    "Write a decorator function for your taking input for you any kind of function you want to build,\n",
    "\n",
    "For example - You make a fibonacci series function,in which your input range is been defined by\n",
    "the decorator program input. "
   ]
  },
  {
   "cell_type": "code",
   "execution_count": 20,
   "metadata": {},
   "outputs": [],
   "source": [
    "\n",
    "arr = []\n",
    "\n",
    "def getInput(calculate_arg_fun):\n",
    "    def wrap_function():\n",
    "        print(\"Hey people enter two numbers =\")\n",
    "        a = int(input(\"Enter your upper limit - \"))\n",
    "        b = int(input(\"Enter your lower limit - \"))\n",
    "        calculate_arg_fun(a,b)   \n",
    "    return wrap_function"
   ]
  },
  {
   "cell_type": "code",
   "execution_count": 41,
   "metadata": {},
   "outputs": [],
   "source": [
    "@getInput\n",
    "def fib(a,b):\n",
    "    c=0\n",
    "    for i in range(b):\n",
    "        a, c = a + c, a\n",
    "        print(a,\" \")"
   ]
  },
  {
   "cell_type": "code",
   "execution_count": 45,
   "metadata": {},
   "outputs": [
    {
     "name": "stdout",
     "output_type": "stream",
     "text": [
      "Hey people enter two numbers =\n",
      "Enter your upper limit - 1\n",
      "Enter your lower limit - 60\n",
      "1  \n",
      "2  \n",
      "3  \n",
      "5  \n",
      "8  \n",
      "13  \n",
      "21  \n",
      "34  \n",
      "55  \n",
      "89  \n",
      "144  \n",
      "233  \n",
      "377  \n",
      "610  \n",
      "987  \n",
      "1597  \n",
      "2584  \n",
      "4181  \n",
      "6765  \n",
      "10946  \n",
      "17711  \n",
      "28657  \n",
      "46368  \n",
      "75025  \n",
      "121393  \n",
      "196418  \n",
      "317811  \n",
      "514229  \n",
      "832040  \n",
      "1346269  \n",
      "2178309  \n",
      "3524578  \n",
      "5702887  \n",
      "9227465  \n",
      "14930352  \n",
      "24157817  \n",
      "39088169  \n",
      "63245986  \n",
      "102334155  \n",
      "165580141  \n",
      "267914296  \n",
      "433494437  \n",
      "701408733  \n",
      "1134903170  \n",
      "1836311903  \n",
      "2971215073  \n",
      "4807526976  \n",
      "7778742049  \n",
      "12586269025  \n",
      "20365011074  \n",
      "32951280099  \n",
      "53316291173  \n",
      "86267571272  \n",
      "139583862445  \n",
      "225851433717  \n",
      "365435296162  \n",
      "591286729879  \n",
      "956722026041  \n",
      "1548008755920  \n",
      "2504730781961  \n"
     ]
    }
   ],
   "source": [
    "fib()"
   ]
  },
  {
   "cell_type": "markdown",
   "metadata": {},
   "source": [
    "Question 2\n",
    "\n",
    "For this challenge you need to develop a Python program to open a file in read only mode and try\n",
    "writing something to it and handle the subsequent errors using Exception Handling.\n",
    "\n"
   ]
  },
  {
   "cell_type": "code",
   "execution_count": 50,
   "metadata": {},
   "outputs": [
    {
     "name": "stdout",
     "output_type": "stream",
     "text": [
      "Overwriting test.txt\n"
     ]
    }
   ],
   "source": [
    "%%writefile test.txt\n",
    "\n",
    "Hey I am RATIKESH BAJPAI from sitapur UP. I am a Full Stack Java Developer."
   ]
  },
  {
   "cell_type": "code",
   "execution_count": 54,
   "metadata": {},
   "outputs": [
    {
     "name": "stdout",
     "output_type": "stream",
     "text": [
      "You Can not write in this file .to write in it please change the opening mode to eda and write\n"
     ]
    }
   ],
   "source": [
    "f = open(\"test.txt\",'r')\n",
    "f.read()\n",
    "\n",
    "try:\n",
    "    f.write(\"Super Super\\n\")\n",
    "except:\n",
    "    print(\"You Can not write in this file .to write in it please change the opening mode to eda and write\")\n",
    "finally:\n",
    "    f.close()"
   ]
  },
  {
   "cell_type": "code",
   "execution_count": null,
   "metadata": {},
   "outputs": [],
   "source": []
  }
 ],
 "metadata": {
  "kernelspec": {
   "display_name": "Python 3",
   "language": "python",
   "name": "python3"
  },
  "language_info": {
   "codemirror_mode": {
    "name": "ipython",
    "version": 3
   },
   "file_extension": ".py",
   "mimetype": "text/x-python",
   "name": "python",
   "nbconvert_exporter": "python",
   "pygments_lexer": "ipython3",
   "version": "3.8.3"
  }
 },
 "nbformat": 4,
 "nbformat_minor": 4
}
